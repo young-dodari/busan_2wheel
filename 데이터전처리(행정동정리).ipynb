{
 "cells": [
  {
   "cell_type": "code",
   "execution_count": 3,
   "metadata": {},
   "outputs": [],
   "source": [
    "import pandas as pd \n",
    "import numpy as np"
   ]
  },
  {
   "cell_type": "code",
   "execution_count": 5,
   "metadata": {},
   "outputs": [
    {
     "data": {
      "text/html": [
       "<div>\n",
       "<style scoped>\n",
       "    .dataframe tbody tr th:only-of-type {\n",
       "        vertical-align: middle;\n",
       "    }\n",
       "\n",
       "    .dataframe tbody tr th {\n",
       "        vertical-align: top;\n",
       "    }\n",
       "\n",
       "    .dataframe thead th {\n",
       "        text-align: right;\n",
       "    }\n",
       "</style>\n",
       "<table border=\"1\" class=\"dataframe\">\n",
       "  <thead>\n",
       "    <tr style=\"text-align: right;\">\n",
       "      <th></th>\n",
       "      <th>구_x</th>\n",
       "      <th>행정동</th>\n",
       "      <th>1인가구</th>\n",
       "      <th>행정동코드</th>\n",
       "      <th>생활인구</th>\n",
       "      <th>도로면적</th>\n",
       "      <th>사망자수</th>\n",
       "      <th>중상자수</th>\n",
       "      <th>경상자수</th>\n",
       "    </tr>\n",
       "  </thead>\n",
       "  <tbody>\n",
       "    <tr>\n",
       "      <th>0</th>\n",
       "      <td>종로구</td>\n",
       "      <td>사직동</td>\n",
       "      <td>1487</td>\n",
       "      <td>11110530.0</td>\n",
       "      <td>24657.0</td>\n",
       "      <td>0.263712</td>\n",
       "      <td>0.0</td>\n",
       "      <td>3.0</td>\n",
       "      <td>2.0</td>\n",
       "    </tr>\n",
       "    <tr>\n",
       "      <th>1</th>\n",
       "      <td>종로구</td>\n",
       "      <td>삼청동</td>\n",
       "      <td>380</td>\n",
       "      <td>11110540.0</td>\n",
       "      <td>5117.0</td>\n",
       "      <td>0.319456</td>\n",
       "      <td>0.0</td>\n",
       "      <td>2.0</td>\n",
       "      <td>0.0</td>\n",
       "    </tr>\n",
       "    <tr>\n",
       "      <th>2</th>\n",
       "      <td>종로구</td>\n",
       "      <td>부암동</td>\n",
       "      <td>1129</td>\n",
       "      <td>11110550.0</td>\n",
       "      <td>14329.0</td>\n",
       "      <td>0.486688</td>\n",
       "      <td>0.0</td>\n",
       "      <td>1.0</td>\n",
       "      <td>0.0</td>\n",
       "    </tr>\n",
       "    <tr>\n",
       "      <th>3</th>\n",
       "      <td>종로구</td>\n",
       "      <td>평창동</td>\n",
       "      <td>1302</td>\n",
       "      <td>11110560.0</td>\n",
       "      <td>17452.0</td>\n",
       "      <td>1.901728</td>\n",
       "      <td>0.0</td>\n",
       "      <td>21.0</td>\n",
       "      <td>2.0</td>\n",
       "    </tr>\n",
       "    <tr>\n",
       "      <th>4</th>\n",
       "      <td>종로구</td>\n",
       "      <td>무악동</td>\n",
       "      <td>494</td>\n",
       "      <td>11110570.0</td>\n",
       "      <td>6890.0</td>\n",
       "      <td>0.077184</td>\n",
       "      <td>0.0</td>\n",
       "      <td>1.0</td>\n",
       "      <td>0.0</td>\n",
       "    </tr>\n",
       "  </tbody>\n",
       "</table>\n",
       "</div>"
      ],
      "text/plain": [
       "   구_x  행정동  1인가구       행정동코드     생활인구      도로면적  사망자수  중상자수  경상자수\n",
       "0  종로구  사직동  1487  11110530.0  24657.0  0.263712   0.0   3.0   2.0\n",
       "1  종로구  삼청동   380  11110540.0   5117.0  0.319456   0.0   2.0   0.0\n",
       "2  종로구  부암동  1129  11110550.0  14329.0  0.486688   0.0   1.0   0.0\n",
       "3  종로구  평창동  1302  11110560.0  17452.0  1.901728   0.0  21.0   2.0\n",
       "4  종로구  무악동   494  11110570.0   6890.0  0.077184   0.0   1.0   0.0"
      ]
     },
     "execution_count": 5,
     "metadata": {},
     "output_type": "execute_result"
    }
   ],
   "source": [
    "dong = pd.read_csv('./data/최종이었으면좋겠다.csv', encoding='utf8')\n",
    "dong.head()"
   ]
  },
  {
   "cell_type": "code",
   "execution_count": 6,
   "metadata": {},
   "outputs": [
    {
     "name": "stdout",
     "output_type": "stream",
     "text": [
      "<class 'pandas.core.frame.DataFrame'>\n",
      "RangeIndex: 430 entries, 0 to 429\n",
      "Data columns (total 9 columns):\n",
      " #   Column  Non-Null Count  Dtype  \n",
      "---  ------  --------------  -----  \n",
      " 0   구_x     430 non-null    object \n",
      " 1   행정동     430 non-null    object \n",
      " 2   1인가구    430 non-null    int64  \n",
      " 3   행정동코드   429 non-null    float64\n",
      " 4   생활인구    429 non-null    float64\n",
      " 5   도로면적    430 non-null    float64\n",
      " 6   사망자수    429 non-null    float64\n",
      " 7   중상자수    429 non-null    float64\n",
      " 8   경상자수    429 non-null    float64\n",
      "dtypes: float64(6), int64(1), object(2)\n",
      "memory usage: 30.4+ KB\n"
     ]
    }
   ],
   "source": [
    "dong.info()"
   ]
  },
  {
   "cell_type": "code",
   "execution_count": 7,
   "metadata": {},
   "outputs": [
    {
     "data": {
      "text/html": [
       "<div>\n",
       "<style scoped>\n",
       "    .dataframe tbody tr th:only-of-type {\n",
       "        vertical-align: middle;\n",
       "    }\n",
       "\n",
       "    .dataframe tbody tr th {\n",
       "        vertical-align: top;\n",
       "    }\n",
       "\n",
       "    .dataframe thead th {\n",
       "        text-align: right;\n",
       "    }\n",
       "</style>\n",
       "<table border=\"1\" class=\"dataframe\">\n",
       "  <thead>\n",
       "    <tr style=\"text-align: right;\">\n",
       "      <th></th>\n",
       "      <th>구_x</th>\n",
       "      <th>행정동</th>\n",
       "      <th>1인가구</th>\n",
       "      <th>생활인구</th>\n",
       "      <th>도로면적</th>\n",
       "      <th>사망자수</th>\n",
       "      <th>중상자수</th>\n",
       "      <th>경상자수</th>\n",
       "    </tr>\n",
       "  </thead>\n",
       "  <tbody>\n",
       "    <tr>\n",
       "      <th>0</th>\n",
       "      <td>종로구</td>\n",
       "      <td>사직동</td>\n",
       "      <td>1487</td>\n",
       "      <td>24657.0</td>\n",
       "      <td>0.263712</td>\n",
       "      <td>0.0</td>\n",
       "      <td>3.0</td>\n",
       "      <td>2.0</td>\n",
       "    </tr>\n",
       "    <tr>\n",
       "      <th>1</th>\n",
       "      <td>종로구</td>\n",
       "      <td>삼청동</td>\n",
       "      <td>380</td>\n",
       "      <td>5117.0</td>\n",
       "      <td>0.319456</td>\n",
       "      <td>0.0</td>\n",
       "      <td>2.0</td>\n",
       "      <td>0.0</td>\n",
       "    </tr>\n",
       "  </tbody>\n",
       "</table>\n",
       "</div>"
      ],
      "text/plain": [
       "   구_x  행정동  1인가구     생활인구      도로면적  사망자수  중상자수  경상자수\n",
       "0  종로구  사직동  1487  24657.0  0.263712   0.0   3.0   2.0\n",
       "1  종로구  삼청동   380   5117.0  0.319456   0.0   2.0   0.0"
      ]
     },
     "execution_count": 7,
     "metadata": {},
     "output_type": "execute_result"
    }
   ],
   "source": [
    "dong.drop(columns=['행정동코드'],inplace=True)\n",
    "dong.head(2)"
   ]
  },
  {
   "cell_type": "code",
   "execution_count": null,
   "metadata": {},
   "outputs": [],
   "source": []
  }
 ],
 "metadata": {
  "kernelspec": {
   "display_name": "Python 3.10.5 64-bit",
   "language": "python",
   "name": "python3"
  },
  "language_info": {
   "codemirror_mode": {
    "name": "ipython",
    "version": 3
   },
   "file_extension": ".py",
   "mimetype": "text/x-python",
   "name": "python",
   "nbconvert_exporter": "python",
   "pygments_lexer": "ipython3",
   "version": "3.10.5"
  },
  "orig_nbformat": 4,
  "vscode": {
   "interpreter": {
    "hash": "beedbe2faf2f7048d727558d0bc3221e7eba2a0b921cac4d4771b2feb8f74b30"
   }
  }
 },
 "nbformat": 4,
 "nbformat_minor": 2
}
